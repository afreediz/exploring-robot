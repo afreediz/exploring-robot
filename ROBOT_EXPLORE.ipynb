{
  "nbformat": 4,
  "nbformat_minor": 0,
  "metadata": {
    "colab": {
      "provenance": []
    },
    "kernelspec": {
      "name": "python3",
      "display_name": "Python 3"
    },
    "language_info": {
      "name": "python"
    }
  },
  "cells": [
    {
      "cell_type": "code",
      "execution_count": 1,
      "metadata": {
        "id": "iyEp6H1jSCgM"
      },
      "outputs": [],
      "source": [
        "import numpy as np"
      ]
    },
    {
      "cell_type": "code",
      "source": [
        "# env with rewards\n",
        "env = np.array([\n",
        "    [-1, -5, -3],\n",
        "    [0, 1, 2],\n",
        "    [-1, -10, 10]\n",
        "])\n",
        "\n",
        "actions = [1, 2, 3, 4]\n",
        "n_actions = len(actions)\n",
        "index_to_action = {\n",
        "    1: 'LEFT',\n",
        "    2: 'RIGHT',\n",
        "    3: 'UP',\n",
        "    4: 'DOWN'\n",
        "}\n",
        "\n",
        "# Q-Action value array with shape (states, actions)\n",
        "QA = np.random.uniform(0, 0.1, size=(env.size, n_actions))\n",
        "\n",
        "QA"
      ],
      "metadata": {
        "colab": {
          "base_uri": "https://localhost:8080/"
        },
        "id": "htKoJULNSPdg",
        "outputId": "60847d3c-5b29-45e6-b9aa-6924b1054292"
      },
      "execution_count": 2,
      "outputs": [
        {
          "output_type": "execute_result",
          "data": {
            "text/plain": [
              "array([[0.08749511, 0.03338182, 0.04668114, 0.07879729],\n",
              "       [0.05759238, 0.09007621, 0.07509596, 0.08498091],\n",
              "       [0.04076369, 0.0559392 , 0.01037262, 0.09845774],\n",
              "       [0.08838206, 0.09717103, 0.08402617, 0.02310035],\n",
              "       [0.00819595, 0.07140293, 0.00141551, 0.02612242],\n",
              "       [0.0996489 , 0.00659592, 0.04484796, 0.09811831],\n",
              "       [0.00352745, 0.05508589, 0.005409  , 0.06128077],\n",
              "       [0.04232811, 0.03721199, 0.08735546, 0.07339779],\n",
              "       [0.04817543, 0.06010971, 0.08577752, 0.05875158]])"
            ]
          },
          "metadata": {},
          "execution_count": 2
        }
      ]
    },
    {
      "cell_type": "code",
      "source": [
        "# left, right, up, down\n",
        "def get_available_actions_by_state(state_index):\n",
        "    \"\"\"Returns binary mask for available actions: [left, right, up, down]\"\"\"\n",
        "    actions_map = {\n",
        "        0: [0, 1, 0, 1],  # top-left: right, down\n",
        "        1: [1, 1, 0, 1],  # top-center: left, right, down\n",
        "        2: [1, 0, 0, 1],  # top-right: left, down\n",
        "        3: [0, 1, 1, 1],  # middle-left: right, up, down\n",
        "        4: [1, 1, 1, 1],  # middle-center: all directions\n",
        "        5: [1, 0, 1, 1],  # middle-right: left, up, down\n",
        "        6: [0, 1, 1, 0],  # bottom-left: right, up\n",
        "        7: [1, 1, 1, 0],  # bottom-center: left, right, up\n",
        "        8: [1, 0, 1, 0],  # bottom-right: left, up\n",
        "    }\n",
        "    return np.array(actions_map[state_index])\n",
        "\n",
        "def state_matrix_to_index(state):\n",
        "    return state[0] * 3 + state[1]\n",
        "\n",
        "def index_to_state_matrix(index):\n",
        "    return [index // 3, index % 3]\n",
        "\n",
        "def traverse_state_matrix(state, action):\n",
        "    \"\"\"Move in the environment based on action\"\"\"\n",
        "    new_state = state.copy()\n",
        "    if action == 1:    # left\n",
        "        new_state[1] -= 1\n",
        "    elif action == 2:  # right\n",
        "        new_state[1] += 1\n",
        "    elif action == 3:  # up\n",
        "        new_state[0] -= 1\n",
        "    elif action == 4:  # down\n",
        "        new_state[0] += 1\n",
        "    return new_state\n",
        "\n",
        "def epsilon_greedy_action(state_index, epsilon=0.1):\n",
        "    \"\"\"Select action using epsilon-greedy strategy\"\"\"\n",
        "    avail_actions = get_available_actions_by_state(state_index)\n",
        "    valid_actions = [a for i, a in enumerate(actions) if avail_actions[i]]\n",
        "\n",
        "    if np.random.random() < epsilon:\n",
        "        # Explore: random action\n",
        "        return np.random.choice(valid_actions)\n",
        "    else:\n",
        "        # Exploit: best action among valid ones\n",
        "        q_values = QA[state_index, :].copy()\n",
        "        for i, a in enumerate(actions):\n",
        "            if not avail_actions[i]:\n",
        "                q_values[i] = -np.inf  # Mask invalid actions\n",
        "        best_action_idx = np.argmax(q_values)\n",
        "        return actions[best_action_idx]"
      ],
      "metadata": {
        "id": "u35ncQpeSQ-u"
      },
      "execution_count": 3,
      "outputs": []
    },
    {
      "cell_type": "code",
      "source": [
        "# Zero out Q-values for unavailable actions\n",
        "for s in range(env.size):\n",
        "    avail_actions = get_available_actions_by_state(s)\n",
        "    QA[s, :] = QA[s, :] * avail_actions\n",
        "\n",
        "QA"
      ],
      "metadata": {
        "colab": {
          "base_uri": "https://localhost:8080/"
        },
        "id": "w5Xcl3diSU5V",
        "outputId": "b98a0771-ff21-4dc3-e750-2b12e497dfc7"
      },
      "execution_count": 4,
      "outputs": [
        {
          "output_type": "execute_result",
          "data": {
            "text/plain": [
              "array([[0.        , 0.03338182, 0.        , 0.07879729],\n",
              "       [0.05759238, 0.09007621, 0.        , 0.08498091],\n",
              "       [0.04076369, 0.        , 0.        , 0.09845774],\n",
              "       [0.        , 0.09717103, 0.08402617, 0.02310035],\n",
              "       [0.00819595, 0.07140293, 0.00141551, 0.02612242],\n",
              "       [0.0996489 , 0.        , 0.04484796, 0.09811831],\n",
              "       [0.        , 0.05508589, 0.005409  , 0.        ],\n",
              "       [0.04232811, 0.03721199, 0.08735546, 0.        ],\n",
              "       [0.04817543, 0.        , 0.08577752, 0.        ]])"
            ]
          },
          "metadata": {},
          "execution_count": 4
        }
      ]
    },
    {
      "cell_type": "code",
      "source": [
        "# Training parameters\n",
        "n_steps = 100\n",
        "n_experiments = 1000\n",
        "gamma = 0.9  # Discount factor (was y=0.1, too low!)\n",
        "lr = 0.1     # Learning rate\n",
        "epsilon = 0.1  # Exploration rate\n",
        "\n",
        "success_count = 0\n",
        "\n",
        "for i in range(n_experiments):\n",
        "    state = [0, 0]  # Start at top-left\n",
        "    reached_reward = False\n",
        "\n",
        "    for step in range(n_steps):\n",
        "        current_state_index = state_matrix_to_index(state)\n",
        "\n",
        "        # Select action using epsilon-greedy\n",
        "        chosen_action = epsilon_greedy_action(current_state_index, epsilon)\n",
        "\n",
        "        # Take action and observe new state and reward\n",
        "        new_state = traverse_state_matrix(state, chosen_action)\n",
        "        new_state_index = state_matrix_to_index(new_state)\n",
        "        reward = env[tuple(new_state)]\n",
        "\n",
        "        # Q-learning update (CORRECTED)\n",
        "        Q_target = reward + gamma * np.max(QA[new_state_index, :])\n",
        "        action_idx = actions.index(chosen_action)\n",
        "        TD_error = Q_target - QA[current_state_index, action_idx]\n",
        "        QA[current_state_index, action_idx] += lr * TD_error\n",
        "\n",
        "        # Move to new state\n",
        "        state = new_state\n",
        "\n",
        "        # Check if reached goal\n",
        "        if reward == 10:\n",
        "            reached_reward = True\n",
        "            success_count += 1\n",
        "            break\n",
        "\n",
        "    # Print progress\n",
        "    if (i + 1) % 100 == 0:\n",
        "        success_rate = success_count / (i + 1) * 100\n",
        "        print(f\"Episode {i+1}: Success rate = {success_rate:.1f}%\")"
      ],
      "metadata": {
        "colab": {
          "base_uri": "https://localhost:8080/"
        },
        "id": "wehIH_x1SWZe",
        "outputId": "38ddb752-a930-4fac-e857-0fb4ae9d3fba"
      },
      "execution_count": 9,
      "outputs": [
        {
          "output_type": "stream",
          "name": "stdout",
          "text": [
            "Episode 100: Success rate = 79.0%\n",
            "Episode 200: Success rate = 81.5%\n",
            "Episode 300: Success rate = 80.0%\n",
            "Episode 400: Success rate = 79.0%\n",
            "Episode 500: Success rate = 79.0%\n",
            "Episode 600: Success rate = 78.8%\n",
            "Episode 700: Success rate = 78.9%\n",
            "Episode 800: Success rate = 78.1%\n",
            "Episode 900: Success rate = 78.2%\n",
            "Episode 1000: Success rate = 78.9%\n"
          ]
        }
      ]
    },
    {
      "cell_type": "code",
      "source": [
        "for r in range(QA.shape[0]):\n",
        "  print(f\"state {r} best action {index_to_action[QA[r, :].argmax() + 1]}\")"
      ],
      "metadata": {
        "colab": {
          "base_uri": "https://localhost:8080/"
        },
        "id": "RKJpsfT1SfkW",
        "outputId": "ce64aee8-898a-4cd9-f786-a8afa8e7ca5c"
      },
      "execution_count": 10,
      "outputs": [
        {
          "output_type": "stream",
          "name": "stdout",
          "text": [
            "state 0 best action DOWN\n",
            "state 1 best action DOWN\n",
            "state 2 best action DOWN\n",
            "state 3 best action RIGHT\n",
            "state 4 best action RIGHT\n",
            "state 5 best action LEFT\n",
            "state 6 best action UP\n",
            "state 7 best action UP\n",
            "state 8 best action UP\n"
          ]
        }
      ]
    },
    {
      "cell_type": "code",
      "source": [],
      "metadata": {
        "id": "EfKVnzWZSnU7"
      },
      "execution_count": 6,
      "outputs": []
    }
  ]
}