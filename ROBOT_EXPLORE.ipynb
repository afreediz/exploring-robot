{
  "nbformat": 4,
  "nbformat_minor": 0,
  "metadata": {
    "colab": {
      "provenance": []
    },
    "kernelspec": {
      "name": "python3",
      "display_name": "Python 3"
    },
    "language_info": {
      "name": "python"
    }
  },
  "cells": [
    {
      "cell_type": "code",
      "execution_count": 1,
      "metadata": {
        "id": "iyEp6H1jSCgM"
      },
      "outputs": [],
      "source": [
        "import numpy as np"
      ]
    },
    {
      "cell_type": "code",
      "source": [
        "# env with rewards\n",
        "env = np.array([\n",
        "    [-1, -5, -3],\n",
        "    [0, 1, 2],\n",
        "    [-1, -10, 10]\n",
        "])\n",
        "\n",
        "actions = [1, 2, 3, 4]\n",
        "n_actions = len(actions)\n",
        "index_to_action = {\n",
        "    1: 'LEFT',\n",
        "    2: 'RIGHT',\n",
        "    3: 'UP',\n",
        "    4: 'DOWN'\n",
        "}\n",
        "\n",
        "# Q-Action value array with shape (states, actions)\n",
        "QA = np.random.uniform(0, 0.1, size=(env.size, n_actions))\n",
        "\n",
        "QA"
      ],
      "metadata": {
        "colab": {
          "base_uri": "https://localhost:8080/"
        },
        "id": "htKoJULNSPdg",
        "outputId": "7d43de9c-f3c8-4360-b54b-1987da14edae"
      },
      "execution_count": 26,
      "outputs": [
        {
          "output_type": "execute_result",
          "data": {
            "text/plain": [
              "array([[0.09173322, 0.04463034, 0.01121587, 0.05069174],\n",
              "       [0.03571657, 0.00170079, 0.04985916, 0.0545668 ],\n",
              "       [0.0498742 , 0.07381411, 0.06152406, 0.06771359],\n",
              "       [0.03912186, 0.03924504, 0.03813193, 0.08617925],\n",
              "       [0.09878852, 0.03597733, 0.04414279, 0.01804502],\n",
              "       [0.06426301, 0.0931838 , 0.0876583 , 0.08320833],\n",
              "       [0.0814824 , 0.00243921, 0.05353578, 0.01827412],\n",
              "       [0.07546633, 0.04120652, 0.03488119, 0.05430935],\n",
              "       [0.00102101, 0.07113049, 0.05549247, 0.00860096]])"
            ]
          },
          "metadata": {},
          "execution_count": 26
        }
      ]
    },
    {
      "cell_type": "code",
      "source": [
        "# left, right, up, down\n",
        "def get_available_actions_by_state(state_index):\n",
        "    \"\"\"Returns binary mask for available actions: [left, right, up, down]\"\"\"\n",
        "    actions_map = {\n",
        "        0: [0, 1, 0, 1],  # top-left: right, down\n",
        "        1: [1, 1, 0, 1],  # top-center: left, right, down\n",
        "        2: [1, 0, 0, 1],  # top-right: left, down\n",
        "        3: [0, 1, 1, 1],  # middle-left: right, up, down\n",
        "        4: [1, 1, 1, 1],  # middle-center: all directions\n",
        "        5: [1, 0, 1, 1],  # middle-right: left, up, down\n",
        "        6: [0, 1, 1, 0],  # bottom-left: right, up\n",
        "        7: [1, 1, 1, 0],  # bottom-center: left, right, up\n",
        "        8: [1, 0, 1, 0],  # bottom-right: left, up\n",
        "    }\n",
        "    return np.array(actions_map[state_index])\n",
        "\n",
        "def state_matrix_to_index(state):\n",
        "    return state[0] * 3 + state[1]\n",
        "\n",
        "def index_to_state_matrix(index):\n",
        "    return [index // 3, index % 3]\n",
        "\n",
        "def traverse_state_matrix(state, action):\n",
        "    \"\"\"Move in the environment based on action\"\"\"\n",
        "    new_state = state.copy()\n",
        "    if action == 1:    # left\n",
        "        new_state[1] -= 1\n",
        "    elif action == 2:  # right\n",
        "        new_state[1] += 1\n",
        "    elif action == 3:  # up\n",
        "        new_state[0] -= 1\n",
        "    elif action == 4:  # down\n",
        "        new_state[0] += 1\n",
        "    return new_state\n",
        "\n",
        "def epsilon_greedy_action(state_index, epsilon=0.1):\n",
        "    \"\"\"Select action using epsilon-greedy strategy\"\"\"\n",
        "    avail_actions = get_available_actions_by_state(state_index)\n",
        "    valid_actions = [a for i, a in enumerate(actions) if avail_actions[i]]\n",
        "\n",
        "    if np.random.random() < epsilon:\n",
        "        # Explore: random action\n",
        "        return np.random.choice(valid_actions)\n",
        "    else:\n",
        "        # Exploit: best action among valid ones\n",
        "        q_values = QA[state_index, :].copy()\n",
        "        for i, a in enumerate(actions):\n",
        "            if not avail_actions[i]:\n",
        "                q_values[i] = -np.inf  # Mask invalid actions\n",
        "        best_action_idx = np.argmax(q_values)\n",
        "        return actions[best_action_idx]"
      ],
      "metadata": {
        "id": "u35ncQpeSQ-u"
      },
      "execution_count": 27,
      "outputs": []
    },
    {
      "cell_type": "code",
      "source": [
        "# Zero out Q-values for unavailable actions\n",
        "for s in range(env.size):\n",
        "    avail_actions = get_available_actions_by_state(s)\n",
        "    QA[s, :] = QA[s, :] * avail_actions\n",
        "\n",
        "QA"
      ],
      "metadata": {
        "colab": {
          "base_uri": "https://localhost:8080/"
        },
        "id": "w5Xcl3diSU5V",
        "outputId": "7fee5399-0f03-45cd-fd3a-605729e83795"
      },
      "execution_count": 28,
      "outputs": [
        {
          "output_type": "execute_result",
          "data": {
            "text/plain": [
              "array([[0.        , 0.04463034, 0.        , 0.05069174],\n",
              "       [0.03571657, 0.00170079, 0.        , 0.0545668 ],\n",
              "       [0.0498742 , 0.        , 0.        , 0.06771359],\n",
              "       [0.        , 0.03924504, 0.03813193, 0.08617925],\n",
              "       [0.09878852, 0.03597733, 0.04414279, 0.01804502],\n",
              "       [0.06426301, 0.        , 0.0876583 , 0.08320833],\n",
              "       [0.        , 0.00243921, 0.05353578, 0.        ],\n",
              "       [0.07546633, 0.04120652, 0.03488119, 0.        ],\n",
              "       [0.00102101, 0.        , 0.05549247, 0.        ]])"
            ]
          },
          "metadata": {},
          "execution_count": 28
        }
      ]
    },
    {
      "cell_type": "code",
      "source": [
        "# Training parameters\n",
        "n_steps = 100\n",
        "n_experiments = 10000\n",
        "gamma = 0.95  # Discount factor (was y=0.1, too low!)\n",
        "lr = 0.1     # Learning rate\n",
        "epsilon = 0.2  # Exploration rate\n",
        "\n",
        "success_count = 0\n",
        "\n",
        "for i in range(n_experiments):\n",
        "    state = [0, 0]  # Start at top-left\n",
        "    reached_reward = False\n",
        "\n",
        "    for step in range(n_steps):\n",
        "        current_state_index = state_matrix_to_index(state)\n",
        "\n",
        "        # Select action using epsilon-greedy\n",
        "        chosen_action = epsilon_greedy_action(current_state_index, epsilon)\n",
        "\n",
        "        # Take action and observe new state and reward\n",
        "        new_state = traverse_state_matrix(state, chosen_action)\n",
        "        new_state_index = state_matrix_to_index(new_state)\n",
        "        reward = env[tuple(new_state)]\n",
        "\n",
        "        # Q-learning update (CORRECTED)\n",
        "        Q_target = reward + gamma * np.max(QA[new_state_index, :])\n",
        "        action_idx = actions.index(chosen_action)\n",
        "        TD_error = Q_target - QA[current_state_index, action_idx]\n",
        "        QA[current_state_index, action_idx] += lr * TD_error\n",
        "\n",
        "        # Move to new state\n",
        "        state = new_state\n",
        "\n",
        "        # Check if reached goal\n",
        "        if reward == 10:\n",
        "            reached_reward = True\n",
        "            success_count += 1\n",
        "            break\n",
        "\n",
        "    # Print progress\n",
        "    if (i + 1) % 100 == 0:\n",
        "        success_rate = success_count / (i + 1) * 100\n",
        "        print(f\"Episode {i+1}: Success rate = {success_rate:.1f}%\")"
      ],
      "metadata": {
        "colab": {
          "base_uri": "https://localhost:8080/"
        },
        "id": "wehIH_x1SWZe",
        "outputId": "638e1054-d58e-4584-9d47-b0ef1c7c9549"
      },
      "execution_count": 29,
      "outputs": [
        {
          "output_type": "stream",
          "name": "stdout",
          "text": [
            "Episode 100: Success rate = 99.0%\n",
            "Episode 200: Success rate = 99.5%\n",
            "Episode 300: Success rate = 99.7%\n",
            "Episode 400: Success rate = 99.8%\n",
            "Episode 500: Success rate = 99.6%\n",
            "Episode 600: Success rate = 98.8%\n",
            "Episode 700: Success rate = 98.4%\n",
            "Episode 800: Success rate = 97.9%\n",
            "Episode 900: Success rate = 97.6%\n",
            "Episode 1000: Success rate = 96.6%\n",
            "Episode 1100: Success rate = 96.6%\n",
            "Episode 1200: Success rate = 96.1%\n",
            "Episode 1300: Success rate = 96.0%\n",
            "Episode 1400: Success rate = 96.1%\n",
            "Episode 1500: Success rate = 96.1%\n",
            "Episode 1600: Success rate = 95.9%\n",
            "Episode 1700: Success rate = 95.8%\n",
            "Episode 1800: Success rate = 95.8%\n",
            "Episode 1900: Success rate = 95.9%\n",
            "Episode 2000: Success rate = 95.9%\n",
            "Episode 2100: Success rate = 95.8%\n",
            "Episode 2200: Success rate = 95.8%\n",
            "Episode 2300: Success rate = 95.8%\n",
            "Episode 2400: Success rate = 95.7%\n",
            "Episode 2500: Success rate = 95.6%\n",
            "Episode 2600: Success rate = 95.4%\n",
            "Episode 2700: Success rate = 95.6%\n",
            "Episode 2800: Success rate = 95.5%\n",
            "Episode 2900: Success rate = 95.4%\n",
            "Episode 3000: Success rate = 95.4%\n",
            "Episode 3100: Success rate = 95.4%\n",
            "Episode 3200: Success rate = 95.3%\n",
            "Episode 3300: Success rate = 95.3%\n",
            "Episode 3400: Success rate = 95.3%\n",
            "Episode 3500: Success rate = 95.4%\n",
            "Episode 3600: Success rate = 95.5%\n",
            "Episode 3700: Success rate = 95.5%\n",
            "Episode 3800: Success rate = 95.4%\n",
            "Episode 3900: Success rate = 95.4%\n",
            "Episode 4000: Success rate = 95.5%\n",
            "Episode 4100: Success rate = 95.6%\n",
            "Episode 4200: Success rate = 95.6%\n",
            "Episode 4300: Success rate = 95.6%\n",
            "Episode 4400: Success rate = 95.6%\n",
            "Episode 4500: Success rate = 95.6%\n",
            "Episode 4600: Success rate = 95.7%\n",
            "Episode 4700: Success rate = 95.6%\n",
            "Episode 4800: Success rate = 95.5%\n",
            "Episode 4900: Success rate = 95.4%\n",
            "Episode 5000: Success rate = 95.3%\n",
            "Episode 5100: Success rate = 95.4%\n",
            "Episode 5200: Success rate = 95.3%\n",
            "Episode 5300: Success rate = 95.3%\n",
            "Episode 5400: Success rate = 95.2%\n",
            "Episode 5500: Success rate = 95.3%\n",
            "Episode 5600: Success rate = 95.3%\n",
            "Episode 5700: Success rate = 95.3%\n",
            "Episode 5800: Success rate = 95.3%\n",
            "Episode 5900: Success rate = 95.3%\n",
            "Episode 6000: Success rate = 95.2%\n",
            "Episode 6100: Success rate = 95.2%\n",
            "Episode 6200: Success rate = 95.1%\n",
            "Episode 6300: Success rate = 95.1%\n",
            "Episode 6400: Success rate = 95.2%\n",
            "Episode 6500: Success rate = 95.2%\n",
            "Episode 6600: Success rate = 95.2%\n",
            "Episode 6700: Success rate = 95.2%\n",
            "Episode 6800: Success rate = 95.2%\n",
            "Episode 6900: Success rate = 95.2%\n",
            "Episode 7000: Success rate = 95.2%\n",
            "Episode 7100: Success rate = 95.3%\n",
            "Episode 7200: Success rate = 95.3%\n",
            "Episode 7300: Success rate = 95.2%\n",
            "Episode 7400: Success rate = 95.2%\n",
            "Episode 7500: Success rate = 95.3%\n",
            "Episode 7600: Success rate = 95.3%\n",
            "Episode 7700: Success rate = 95.3%\n",
            "Episode 7800: Success rate = 95.3%\n",
            "Episode 7900: Success rate = 95.3%\n",
            "Episode 8000: Success rate = 95.3%\n",
            "Episode 8100: Success rate = 95.3%\n",
            "Episode 8200: Success rate = 95.3%\n",
            "Episode 8300: Success rate = 95.3%\n",
            "Episode 8400: Success rate = 95.3%\n",
            "Episode 8500: Success rate = 95.3%\n",
            "Episode 8600: Success rate = 95.3%\n",
            "Episode 8700: Success rate = 95.2%\n",
            "Episode 8800: Success rate = 95.3%\n",
            "Episode 8900: Success rate = 95.2%\n",
            "Episode 9000: Success rate = 95.2%\n",
            "Episode 9100: Success rate = 95.2%\n",
            "Episode 9200: Success rate = 95.2%\n",
            "Episode 9300: Success rate = 95.2%\n",
            "Episode 9400: Success rate = 95.1%\n",
            "Episode 9500: Success rate = 95.1%\n",
            "Episode 9600: Success rate = 95.1%\n",
            "Episode 9700: Success rate = 95.1%\n",
            "Episode 9800: Success rate = 95.1%\n",
            "Episode 9900: Success rate = 95.1%\n",
            "Episode 10000: Success rate = 95.1%\n"
          ]
        }
      ]
    },
    {
      "cell_type": "code",
      "source": [
        "QA"
      ],
      "metadata": {
        "colab": {
          "base_uri": "https://localhost:8080/"
        },
        "id": "CKrYsLvhtKDy",
        "outputId": "1637b632-72bf-473a-9b84-78595d4946dd"
      },
      "execution_count": 30,
      "outputs": [
        {
          "output_type": "execute_result",
          "data": {
            "text/plain": [
              "array([[0.00000000e+00, 2.32564103e+01, 0.00000000e+00, 2.82564103e+01],\n",
              "       [2.58435897e+01, 2.57435897e+01, 0.00000000e+00, 2.97435897e+01],\n",
              "       [2.32564103e+01, 0.00000000e+00, 0.00000000e+00, 3.02564103e+01],\n",
              "       [0.00000000e+00, 2.97435897e+01, 2.58435897e+01, 2.58435897e+01],\n",
              "       [2.82564103e+01, 3.02564103e+01, 2.32564103e+01, 1.82564103e+01],\n",
              "       [2.97435897e+01, 0.00000000e+00, 2.57435897e+01, 1.00527178e+01],\n",
              "       [0.00000000e+00, 1.82564096e+01, 2.82564103e+01, 0.00000000e+00],\n",
              "       [2.58435897e+01, 1.00527178e+01, 2.97435897e+01, 0.00000000e+00],\n",
              "       [1.02101399e-03, 0.00000000e+00, 5.54924660e-02, 0.00000000e+00]])"
            ]
          },
          "metadata": {},
          "execution_count": 30
        }
      ]
    },
    {
      "cell_type": "code",
      "source": [
        "for r in range(QA.shape[0]):\n",
        "  print(f\"state {r} best action {index_to_action[QA[r, :].argmax() + 1]}\")"
      ],
      "metadata": {
        "colab": {
          "base_uri": "https://localhost:8080/"
        },
        "id": "RKJpsfT1SfkW",
        "outputId": "7cba14e8-0565-484f-b9e3-a70983ecb061"
      },
      "execution_count": 31,
      "outputs": [
        {
          "output_type": "stream",
          "name": "stdout",
          "text": [
            "state 0 best action DOWN\n",
            "state 1 best action DOWN\n",
            "state 2 best action DOWN\n",
            "state 3 best action RIGHT\n",
            "state 4 best action RIGHT\n",
            "state 5 best action LEFT\n",
            "state 6 best action UP\n",
            "state 7 best action UP\n",
            "state 8 best action UP\n"
          ]
        }
      ]
    },
    {
      "cell_type": "code",
      "source": [],
      "metadata": {
        "id": "EfKVnzWZSnU7"
      },
      "execution_count": 31,
      "outputs": []
    }
  ]
}